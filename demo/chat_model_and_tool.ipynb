{
 "cells": [
  {
   "cell_type": "code",
   "id": "initial_id",
   "metadata": {
    "collapsed": true,
    "ExecuteTime": {
     "end_time": "2024-07-16T02:27:45.896223Z",
     "start_time": "2024-07-16T02:27:45.885960Z"
    }
   },
   "source": [
    "from ai_core.llm.base import create_chat_model\n",
    "from langchain_core.messages import HumanMessage, ToolMessage\n",
    "from langchain_core.prompts import ChatPromptTemplate, MessagesPlaceholder\n",
    "from langchain_core.tools import tool"
   ],
   "outputs": [],
   "execution_count": 92
  },
  {
   "metadata": {
    "ExecuteTime": {
     "end_time": "2024-07-16T05:08:39.177907Z",
     "start_time": "2024-07-16T05:08:39.135028Z"
    }
   },
   "cell_type": "code",
   "source": [
    "model = create_chat_model(\n",
    "    llm_api_key=\"sk-gapk-F14i5UwldXoRfXe6AGxpUSD9G-B0JOUR\",\n",
    "    llm_model=\"anthropic/claude-3-5-sonnet-20240620\",\n",
    "    # llm_model=\"openai/gpt-4o-2024-05-13\"\n",
    ")"
   ],
   "id": "62b9ca94ef7b9f6e",
   "outputs": [],
   "execution_count": 93
  },
  {
   "metadata": {
    "ExecuteTime": {
     "end_time": "2024-07-16T05:08:43.385628Z",
     "start_time": "2024-07-16T05:08:41.498861Z"
    }
   },
   "cell_type": "code",
   "source": "res = model.invoke(\"what is the value of 2 * 2?\")",
   "id": "a0375fa34987fbb",
   "outputs": [],
   "execution_count": 94
  },
  {
   "metadata": {
    "ExecuteTime": {
     "end_time": "2024-07-16T05:08:45.702314Z",
     "start_time": "2024-07-16T05:08:45.699862Z"
    }
   },
   "cell_type": "code",
   "source": "res.pretty_print()",
   "id": "7aa9105a552cec7c",
   "outputs": [
    {
     "name": "stdout",
     "output_type": "stream",
     "text": [
      "==================================\u001B[1m Ai Message \u001B[0m==================================\n",
      "\n",
      "The value of 2 * 2 is 4.\n",
      "\n",
      "This is a basic multiplication problem:\n",
      "\n",
      "2 * 2 = 4\n",
      "\n",
      "In this case, you're multiplying 2 by itself, which gives you 4 as the result. This is one of the fundamental multiplication facts that most people learn early in their math education.\n"
     ]
    }
   ],
   "execution_count": 95
  },
  {
   "metadata": {
    "ExecuteTime": {
     "end_time": "2024-07-15T10:29:03.280561Z",
     "start_time": "2024-07-15T10:29:03.277842Z"
    }
   },
   "cell_type": "code",
   "source": "res",
   "id": "72076e6c42d1389e",
   "outputs": [
    {
     "data": {
      "text/plain": [
       "AIMessage(content='The value of \\\\( 2 \\\\times 2 \\\\) is 4.', response_metadata={'token_usage': {'completion_tokens': 16, 'prompt_tokens': 18, 'total_tokens': 34}, 'model_name': 'gpt-4o-2024-05-13', 'system_fingerprint': 'fp_298125635f', 'finish_reason': 'stop', 'logprobs': None}, id='run-7579598d-8dc8-459f-ae6d-655049dcd23e-0', usage_metadata={'input_tokens': 18, 'output_tokens': 16, 'total_tokens': 34})"
      ]
     },
     "execution_count": 19,
     "metadata": {},
     "output_type": "execute_result"
    }
   ],
   "execution_count": 19
  },
  {
   "metadata": {
    "ExecuteTime": {
     "end_time": "2024-07-15T10:31:17.442271Z",
     "start_time": "2024-07-15T10:31:16.065565Z"
    }
   },
   "cell_type": "code",
   "source": [
    "# streaming\n",
    "for m in model.stream(\"what is the value of 2 * 2?\"):\n",
    "    print(m.content, end=\"\")"
   ],
   "id": "3f3adaadbaf83c9d",
   "outputs": [
    {
     "name": "stdout",
     "output_type": "stream",
     "text": [
      "The value of \\(2 \\times 2\\) is \\(4\\)."
     ]
    }
   ],
   "execution_count": 22
  },
  {
   "metadata": {},
   "cell_type": "code",
   "source": "model.invoke(\"뭐라고?\").pretty_print()",
   "id": "21cd4c6d464fca49",
   "outputs": [],
   "execution_count": null
  },
  {
   "metadata": {},
   "cell_type": "code",
   "source": "model.invoke(\"what is the value of 2132323 * 2232323?\").pretty_print()",
   "id": "d3f478484eb1d504",
   "outputs": [],
   "execution_count": null
  },
  {
   "metadata": {},
   "cell_type": "code",
   "source": "2132323 * 2232323",
   "id": "93a4e37244560b37",
   "outputs": [],
   "execution_count": null
  },
  {
   "metadata": {
    "ExecuteTime": {
     "end_time": "2024-07-15T10:40:45.467148Z",
     "start_time": "2024-07-15T10:40:45.463359Z"
    }
   },
   "cell_type": "code",
   "source": [
    "chat_history = []\n",
    "\n",
    "prompt = ChatPromptTemplate.from_messages(\n",
    "    [\n",
    "        (MessagesPlaceholder(\"history\")),\n",
    "        ('human', '{input}')\n",
    "    ]\n",
    ")"
   ],
   "id": "157fb71d06536ba2",
   "outputs": [],
   "execution_count": 43
  },
  {
   "metadata": {},
   "cell_type": "code",
   "source": "prompt.pretty_print()",
   "id": "fdd43de3593c9019",
   "outputs": [],
   "execution_count": null
  },
  {
   "metadata": {
    "ExecuteTime": {
     "end_time": "2024-07-15T10:40:47.798094Z",
     "start_time": "2024-07-15T10:40:47.795159Z"
    }
   },
   "cell_type": "code",
   "source": "model_with_prompt = prompt | model",
   "id": "535018c48567e0ef",
   "outputs": [],
   "execution_count": 45
  },
  {
   "metadata": {
    "ExecuteTime": {
     "end_time": "2024-07-15T10:41:01.556103Z",
     "start_time": "2024-07-15T10:40:48.945359Z"
    }
   },
   "cell_type": "code",
   "source": [
    "question = \"what is the value of 2 * 2?\"\n",
    "ai_msg_1 = model_with_prompt.invoke({\"input\": question, \"history\": chat_history})"
   ],
   "id": "84fc3c1403da46f1",
   "outputs": [],
   "execution_count": 46
  },
  {
   "metadata": {},
   "cell_type": "code",
   "source": "ai_msg_1.pretty_print()",
   "id": "969e44740b18f2b1",
   "outputs": [],
   "execution_count": null
  },
  {
   "metadata": {
    "ExecuteTime": {
     "end_time": "2024-07-15T10:41:05.789150Z",
     "start_time": "2024-07-15T10:41:05.786985Z"
    }
   },
   "cell_type": "code",
   "source": "chat_history.extend([question, ai_msg_1])",
   "id": "a065e3d26d3e8295",
   "outputs": [],
   "execution_count": 48
  },
  {
   "metadata": {},
   "cell_type": "code",
   "source": [
    "ai_msg_2 = model_with_prompt.invoke({\"input\": \"뭐라고?\", \"history\": chat_history})\n",
    "ai_msg_2.pretty_print()"
   ],
   "id": "efce1ed4215e5238",
   "outputs": [],
   "execution_count": null
  },
  {
   "metadata": {
    "ExecuteTime": {
     "end_time": "2024-07-15T10:42:11.757290Z",
     "start_time": "2024-07-15T10:42:11.750057Z"
    }
   },
   "cell_type": "code",
   "source": [
    "@tool\n",
    "def multiply(a: str, b: str) -> int:\n",
    "    \"\"\"Multiplies two numbers.\"\"\"\n",
    "    return int(a) * int(b)"
   ],
   "id": "d1057ce30c98d103",
   "outputs": [],
   "execution_count": 50
  },
  {
   "metadata": {
    "ExecuteTime": {
     "end_time": "2024-07-15T10:49:01.360038Z",
     "start_time": "2024-07-15T10:49:01.356674Z"
    }
   },
   "cell_type": "code",
   "source": [
    "chat_history = []\n",
    "\n",
    "tools = [multiply]\n",
    "model_with_tools = prompt | model.bind_tools(tools)"
   ],
   "id": "847e855eaef2dd10",
   "outputs": [],
   "execution_count": 77
  },
  {
   "metadata": {
    "ExecuteTime": {
     "end_time": "2024-07-15T10:49:05.372001Z",
     "start_time": "2024-07-15T10:49:02.748814Z"
    }
   },
   "cell_type": "code",
   "source": [
    "question = \"2132323 * 2232323 은 뭐야?\"\n",
    "ai_msg_3 = model_with_tools.invoke({\"input\": question, \"history\": chat_history})"
   ],
   "id": "c24530833962a295",
   "outputs": [],
   "execution_count": 78
  },
  {
   "metadata": {},
   "cell_type": "code",
   "source": "ai_msg_3.pretty_print()",
   "id": "b16a1552cb9dab78",
   "outputs": [],
   "execution_count": null
  },
  {
   "metadata": {},
   "cell_type": "code",
   "source": [
    "tool_call = ai_msg_3.tool_calls[0]\n",
    "tm = ToolMessage(tool_call_id=tool_call['id'], content=multiply.invoke(tool_call['args']))\n",
    "tm.pretty_print()"
   ],
   "id": "1ecc37f0be56ab27",
   "outputs": [],
   "execution_count": null
  },
  {
   "metadata": {},
   "cell_type": "code",
   "source": [
    "chat_history.extend([HumanMessage(question), ai_msg_3, tm])\n",
    "for m in chat_history:\n",
    "    m.pretty_print()"
   ],
   "id": "44092e6ca5c43eba",
   "outputs": [],
   "execution_count": null
  },
  {
   "metadata": {},
   "cell_type": "code",
   "source": [
    "res = model.bind_tools(tools).invoke(chat_history)\n",
    "res.pretty_print()"
   ],
   "id": "50c0b43a865639c0",
   "outputs": [],
   "execution_count": null
  }
 ],
 "metadata": {
  "kernelspec": {
   "display_name": "Python 3",
   "language": "python",
   "name": "python3"
  },
  "language_info": {
   "codemirror_mode": {
    "name": "ipython",
    "version": 2
   },
   "file_extension": ".py",
   "mimetype": "text/x-python",
   "name": "python",
   "nbconvert_exporter": "python",
   "pygments_lexer": "ipython2",
   "version": "2.7.6"
  }
 },
 "nbformat": 4,
 "nbformat_minor": 5
}
