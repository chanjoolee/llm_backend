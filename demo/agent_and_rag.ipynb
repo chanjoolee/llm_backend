{
 "cells": [
  {
   "cell_type": "code",
   "id": "initial_id",
   "metadata": {
    "collapsed": true,
    "ExecuteTime": {
     "end_time": "2024-07-15T20:34:27.420930Z",
     "start_time": "2024-07-15T20:34:27.413199Z"
    }
   },
   "source": [
    "from ai_core.llm.base import create_chat_model\n",
    "\n",
    "from langgraph.constants import START, END\n",
    "from langgraph.graph import StateGraph, MessagesState\n",
    "\n",
    "from langchain_core.tools import create_retriever_tool\n",
    "\n",
    "from langgraph.prebuilt import create_react_agent\n",
    "\n",
    "\n",
    "from IPython.display import Image, display\n"
   ],
   "outputs": [],
   "execution_count": 57
  },
  {
   "metadata": {},
   "cell_type": "code",
   "source": [
    "model = create_chat_model(\n",
    "    llm_api_key=\"sk-gapk-F14i5UwldXoRfXe6AGxpUSD9G-B0JOUR\",\n",
    "    llm_model=\"anthropic/claude-3-5-sonnet-20240620\",\n",
    "    # llm_model=\"openai/gpt-4o-2024-05-13\"\n",
    ")"
   ],
   "id": "3ae17fbfb7e09688",
   "outputs": [],
   "execution_count": null
  },
  {
   "metadata": {},
   "cell_type": "code",
   "source": [
    "# Langgraph\n",
    "graph_builder = StateGraph(MessagesState)\n",
    "\n",
    "def chatbot(state: MessagesState):\n",
    "    return {\"messages\": [model.invoke(state[\"messages\"])]}\n",
    "\n",
    "graph_builder.add_node(\"chatbot\", chatbot)\n",
    "\n",
    "graph_builder.add_edge(START, \"chatbot\")\n",
    "graph_builder.add_edge(\"chatbot\", END)\n",
    "\n",
    "graph = graph_builder.compile()\n",
    "\n",
    "try:\n",
    "    display(Image(graph.get_graph().draw_mermaid_png()))\n",
    "except Exception:\n",
    "    # This requires some extra dependencies and is optional\n",
    "    pass"
   ],
   "id": "d639e3fd30b40806",
   "outputs": [],
   "execution_count": null
  },
  {
   "metadata": {},
   "cell_type": "code",
   "source": "graph.invoke({\"messages\": \"삶의 의미란 무엇일까?\"})[\"messages\"][-1].pretty_print()",
   "id": "f069ccda008c5e73",
   "outputs": [],
   "execution_count": null
  },
  {
   "metadata": {
    "ExecuteTime": {
     "end_time": "2024-07-15T11:22:15.591562Z",
     "start_time": "2024-07-15T11:22:15.557056Z"
    }
   },
   "cell_type": "code",
   "source": [
    "from langchain_chroma import Chroma\n",
    "from langchain_openai.embeddings import OpenAIEmbeddings\n",
    "\n",
    "embeddings = OpenAIEmbeddings(\n",
    "    model=\"text-embedding-3-large\",\n",
    "    openai_api_key=\"ba3954fe-9cbb-4599-966b-20b04b5d3441\",\n",
    "    openai_api_base=\"https://aihub-api.sktelecom.com/aihub/v1/sandbox\")\n",
    "\n",
    "chroma = Chroma(\n",
    "    collection_name=\"ds-dtseungbum-billing_granularify_system_requirements-text-4d94\",\n",
    "    embedding_function=embeddings,\n",
    "    persist_directory=\"../ai_core/data/daisy_demo_chromadb\")\n"
   ],
   "id": "3add60e709039da2",
   "outputs": [],
   "execution_count": 27
  },
  {
   "metadata": {
    "ExecuteTime": {
     "end_time": "2024-07-15T11:22:59.028120Z",
     "start_time": "2024-07-15T11:22:59.025744Z"
    }
   },
   "cell_type": "code",
   "source": "retriever = chroma.as_retriever(saerch_type=\"similarity\", k=4)",
   "id": "5ed3c0bc3fcd1b8f",
   "outputs": [],
   "execution_count": 29
  },
  {
   "metadata": {
    "ExecuteTime": {
     "end_time": "2024-07-15T11:25:03.023204Z",
     "start_time": "2024-07-15T11:25:03.018498Z"
    }
   },
   "cell_type": "code",
   "source": [
    "tool = create_retriever_tool(retriever=retriever, name=\"billing_granularify_system_requirements\",\n",
    "                             description=\"Description of billing granularify system requirements\")\n",
    "\n",
    "tools = [tool]\n",
    "\n",
    "app = create_react_agent(model, tools)\n",
    "\n",
    "try:\n",
    "    display(Image(app.get_graph().draw_mermaid_png()))\n",
    "except Exception:\n",
    "    # This requires some extra dependencies and is optional\n",
    "    pass"
   ],
   "id": "c8bdbcef5efe9c0e",
   "outputs": [],
   "execution_count": 36
  },
  {
   "metadata": {},
   "cell_type": "code",
   "source": [
    "def stream(msg):\n",
    "    inputs = {\"messages\": [(\"user\", msg)]}\n",
    "    for s in app.stream(inputs):\n",
    "        if \"agent\" in s:\n",
    "            messages = s[\"agent\"][\"messages\"]\n",
    "        elif \"tools\" in s:\n",
    "            messages = s[\"tools\"][\"messages\"]\n",
    "        else:\n",
    "            messages = s[\"messages\"]\n",
    "    \n",
    "        messages[-1].pretty_print()\n",
    "    \n",
    "stream(\"과금세분화를 진행하게된 배경을 알 수 있을까?\")"
   ],
   "id": "d8327167845c425b",
   "outputs": [],
   "execution_count": null
  },
  {
   "metadata": {},
   "cell_type": "code",
   "source": "stream(\"유레카라는 시스템이 하던 역할은 뭐야?\")",
   "id": "b180647d73183755",
   "outputs": [],
   "execution_count": null
  }
 ],
 "metadata": {
  "kernelspec": {
   "display_name": "Python 3",
   "language": "python",
   "name": "python3"
  },
  "language_info": {
   "codemirror_mode": {
    "name": "ipython",
    "version": 2
   },
   "file_extension": ".py",
   "mimetype": "text/x-python",
   "name": "python",
   "nbconvert_exporter": "python",
   "pygments_lexer": "ipython2",
   "version": "2.7.6"
  }
 },
 "nbformat": 4,
 "nbformat_minor": 5
}
