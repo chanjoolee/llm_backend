{
 "cells": [
   {
    "cell_type": "code",
    "id": "initial_id",
    "metadata": {
     "ExecuteTime": {
      "end_time": "2024-07-15T07:41:21.187282Z",
      "start_time": "2024-07-15T07:41:21.184790Z"
     }
    },
    "source": [
     "# 0. 필요한 라이브러리 설치\n\n",
     "!pip install langchain-community langchain_text_splitters langchain_chroma langchain_openai unstructured tiktoken\n"
    ],
    "outputs": [],
    "execution_count": 2
   },
  {
   "cell_type": "code",
   "id": "initial_id",
   "metadata": {
    "ExecuteTime": {
     "end_time": "2024-07-15T07:41:21.187282Z",
     "start_time": "2024-07-15T07:41:21.184790Z"
    }
   },
   "source": [
     "# 1. docx 파일로부터 content를 추출한다.\n\n",
     "from langchain_community.document_loaders import UnstructuredFileLoader\n\n",
     "loader = UnstructuredFileLoader(file_path=\"5G SA 도입관련 과금 세부화 내역 조회 시스템 요건(Ver.042).docx\", mode=\"single\")\n",
     "docs = loader.load()\n",
     "print(docs[0])\n"
   ],
   "outputs": [],
   "execution_count": 2
  },
  {
   "metadata": {
    "ExecuteTime": {
     "end_time": "2024-07-15T07:41:45.591452Z",
     "start_time": "2024-07-15T07:41:45.489756Z"
    }
   },
   "cell_type": "code",
   "source": [
        "# 2. content를 적절한 크기로 나눈다.\n\n",
        "from langchain_text_splitters import RecursiveCharacterTextSplitter\n\n",
        "splitter = RecursiveCharacterTextSplitter.from_tiktoken_encoder(\n",
        "    chunk_size=1500,\n",
        "    chunk_overlap=200\n",
        ")\n\n",
        "splits = []\n",
        "for doc in docs:\n",
        "    splits.extend(splitter.split_text(doc.page_content))\n\n",
        "print(f\"Number of splits: {len(splits)}\")\n",
        "print(splits[0])\n"
   ],
   "id": "initial_id",
   "outputs": [],
   "execution_count": 3
  },
  {
   "metadata": {
    "ExecuteTime": {
     "end_time": "2024-07-15T07:41:55.050340Z",
     "start_time": "2024-07-15T07:41:52.157022Z"
    }
   },
   "cell_type": "code",
   "source": [
       "# 3. 나눈 content를 embedding하여 chromaDB에 저장한다.\n\n",
       "from langchain_chroma import Chroma\n",
       "from langchain_openai.embeddings import OpenAIEmbeddings\n\n",
       "llm_api_url = \"https://aihub-api.sktelecom.com/aihub/v1/sandbox\"\n",
       "llm_api_key = \"ba3954fe-9cbb-4599-966b-20b04b5d3441\"\n",
       "persist_directory = \"./daisy_demo_chromadb\"\n",
       "embedding_model_name = \"text-embedding-3-large\"\n",
       "collection_name = \"ds-dtseungbum-billing_granularify_system_requirements-text-4d94\"\n\n",
       "embeddings = OpenAIEmbeddings(\n",
       "    model=embedding_model_name,\n",
       "    openai_api_key=llm_api_key,\n",
       "    openai_api_base=llm_api_url)\n\n",
       "chroma = Chroma(\n",
       "    collection_name=collection_name,\n",
       "    embedding_function=embeddings,\n",
       "    persist_directory=persist_directory)\n",
       "chroma.add_texts(splits)\n"
   ],
   "id": "a0375fa34987fbb",
   "outputs": [],
   "execution_count": 4
  },
  {
   "metadata": {
    "ExecuteTime": {
     "end_time": "2024-07-15T07:41:59.119657Z",
     "start_time": "2024-07-15T07:41:59.117501Z"
    }
   },
   "cell_type": "code",
   "source": [
    "# 4. 검색을 수행한다.\n\n",
    "retriever = chroma.as_retriever(saerch_type=\"similarity\", k=4)\n\n",
    "for i, d in enumerate(retriever.invoke(\"과금 CDR 조회 기능의 제약 사항\")):\n",
    "    print(\"*************\")\n",
    "    print(f\"Document {i}\")\n",
    "    print(d.page_content)\n",
    "    print(\"*************\")\n"
   ],
   "id": "initial_id",
   "outputs": []
  }
  ],
 "metadata": {
  "kernelspec": {
   "display_name": "Python 3",
   "language": "python",
   "name": "python3"
  },
  "language_info": {
   "codemirror_mode": {
    "name": "ipython",
    "version": 2
   },
   "file_extension": ".py",
   "mimetype": "text/x-python",
   "name": "python",
   "nbconvert_exporter": "python",
   "pygments_lexer": "ipython2",
   "version": "2.7.6"
  }
 },
 "nbformat": 4,
 "nbformat_minor": 5
}
